{
 "cells": [
  {
   "cell_type": "markdown",
   "id": "ccc72d84-b90f-4109-adc6-885478b8af05",
   "metadata": {},
   "source": [
    "# My Jupyter Notebook on IBM Watson Studio"
   ]
  },
  {
   "cell_type": "markdown",
   "id": "f4ce71d9-6c9a-4749-a1b1-c9d9a8079069",
   "metadata": {},
   "source": [
    "__Stefan Dzhogov__ <br>\n",
    "I want to start a carrier in Data Science. "
   ]
  },
  {
   "cell_type": "markdown",
   "id": "7dea002f-2d6e-4dc7-954d-d7f14955069b",
   "metadata": {},
   "source": [
    "_I am interested in Data Science, because it allows businesses become more efficient and gain competitive advantages._"
   ]
  },
  {
   "cell_type": "markdown",
   "id": "e1856aea-c705-4f01-b453-380e459d477d",
   "metadata": {},
   "source": [
    "### This code is calculating the area of a rectangle:"
   ]
  },
  {
   "cell_type": "code",
   "execution_count": null,
   "id": "7e16e3e1-fe07-4d4f-9c87-18d098817aa6",
   "metadata": {},
   "outputs": [
    {
     "data": {
      "text/plain": [
       "200"
      ]
     },
     "execution_count": 6,
     "metadata": {},
     "output_type": "execute_result"
    }
   ],
   "source": [
    "a=10\n",
    "b=20\n",
    "a*b"
   ]
  },
  {
   "cell_type": "markdown",
   "id": "e5b2bea9-6795-4e3e-bcd9-6cb3e86cd5f6",
   "metadata": {},
   "source": [
    "This is ordered list:\n",
    "<ol>\n",
    "<li>Python</li>\n",
    "<li>HTML</li>\n",
    "<li>SQL</li>\n",
    "<li>SPSS</li>\n",
    "</ol>\n",
    "This is unordered list:\n",
    "<ul>\n",
    "<li>Python</li>\n",
    "<li>HTML</li>\n",
    "<li>SQL</li>\n",
    "<li>SPSS</li>\n",
    "</ul>\n",
    "\n",
    "\n",
    "| Producer | Model | Engine | Price |\n",
    "| --- | --- | --- | ------ |\n",
    "| VW | Golf | Petrol | 40000 | \n",
    "| KIA | Niro | Hybrid | 35000 |\n",
    "| TOYOTA | Camry | Petrol | 50000 |\n",
    "\n",
    "\n",
    "<a href=\"https://www.coursera.org/\">__Coursera Website__</a>"
   ]
  },
  {
   "cell_type": "code",
   "execution_count": null,
   "id": "28f1574d-2bca-477e-a9e8-207c5b6391bc",
   "metadata": {},
   "outputs": [],
   "source": []
  }
 ],
 "metadata": {
  "kernelspec": {
   "display_name": "Python",
   "language": "python",
   "name": "conda-env-python-py"
  },
  "language_info": {
   "codemirror_mode": {
    "name": "ipython",
    "version": 3
   },
   "file_extension": ".py",
   "mimetype": "text/x-python",
   "name": "python",
   "nbconvert_exporter": "python",
   "pygments_lexer": "ipython3",
   "version": "3.7.12"
  }
 },
 "nbformat": 4,
 "nbformat_minor": 5
}
